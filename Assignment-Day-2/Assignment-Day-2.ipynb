{
 "cells": [
  {
   "cell_type": "markdown",
   "metadata": {},
   "source": [
    "## QUESTION-1"
   ]
  },
  {
   "cell_type": "markdown",
   "metadata": {},
   "source": [
    "Create an empty list. Accept 10 numbers from the user and append to it the list if it is an even number.\n"
   ]
  },
  {
   "cell_type": "markdown",
   "metadata": {},
   "source": [
    "### Answer"
   ]
  },
  {
   "cell_type": "code",
   "execution_count": 1,
   "metadata": {},
   "outputs": [
    {
     "name": "stdout",
     "output_type": "stream",
     "text": [
      "1 \n",
      "2\n",
      "3\n",
      "4\n",
      "5\n",
      "6\n",
      "7\n",
      "8\n",
      "9\n",
      "9\n",
      "[2, 4, 6, 8]\n"
     ]
    }
   ],
   "source": [
    "lis= []\n",
    "i=10\n",
    "while(i>0):\n",
    "    a=int(input())\n",
    "    if(a%2==0):\n",
    "        lis.append(a)\n",
    "    i=i-1\n",
    "\n",
    "print(lis)\n",
    "\n"
   ]
  },
  {
   "cell_type": "markdown",
   "metadata": {},
   "source": [
    "##  QUESTION-2"
   ]
  },
  {
   "cell_type": "markdown",
   "metadata": {},
   "source": [
    "Create a notebook on LIST COMPREHENSION. This exercise is to put you in a Self learning mode"
   ]
  },
  {
   "cell_type": "markdown",
   "metadata": {},
   "source": [
    "## Answer"
   ]
  },
  {
   "cell_type": "markdown",
   "metadata": {},
   "source": [
    "### <u>  LIST COMPREHENSION </u>"
   ]
  },
  {
   "cell_type": "code",
   "execution_count": 2,
   "metadata": {},
   "outputs": [
    {
     "name": "stdout",
     "output_type": "stream",
     "text": [
      "[2, 4, 6, 8, 10, 12, 14, 16, 18, 20]\n"
     ]
    }
   ],
   "source": [
    "# Example -1\n",
    "table= [ 2*i  for i in range(1,11)]\n",
    "print(table)"
   ]
  },
  {
   "cell_type": "code",
   "execution_count": 7,
   "metadata": {},
   "outputs": [
    {
     "name": "stdout",
     "output_type": "stream",
     "text": [
      "['Odd', 'Odd', 'Odd', 'Odd', 'Even', 'Odd', 'Even']\n"
     ]
    }
   ],
   "source": [
    "# Example-2\n",
    "a=[1,23,57,67,56,43,32]\n",
    "OddEven = [   \"Even\" if i%2==0 else \"Odd\" for i in a]\n",
    "print(OddEven)"
   ]
  },
  {
   "cell_type": "code",
   "execution_count": 10,
   "metadata": {},
   "outputs": [
    {
     "name": "stdout",
     "output_type": "stream",
     "text": [
      "[<class 'int'>, <class 'float'>, <class 'str'>]\n"
     ]
    }
   ],
   "source": [
    "# Example-3\n",
    "a=[1,4.5, \"priya\"]\n",
    "typeof = [type(i) for i in a]\n",
    "print(typeof)\n",
    "\n",
    "\n"
   ]
  },
  {
   "cell_type": "code",
   "execution_count": 12,
   "metadata": {},
   "outputs": [
    {
     "name": "stdout",
     "output_type": "stream",
     "text": [
      "priya jain\n",
      "['Priya', 'Jain']\n"
     ]
    }
   ],
   "source": [
    "# Example -4\n",
    "a=list(input().split(\" \"))\n",
    "cap = [ i.capitalize( )  for i in a]\n",
    "print(cap)"
   ]
  },
  {
   "cell_type": "markdown",
   "metadata": {},
   "source": [
    "## QUESTION-3"
   ]
  },
  {
   "cell_type": "markdown",
   "metadata": {},
   "source": [
    "given a number n, you have to write a program that generates a dictionary d which contains (i, i*i), where i is from 1 to n (both included)."
   ]
  },
  {
   "cell_type": "markdown",
   "metadata": {},
   "source": [
    "\n",
    "### Program"
   ]
  },
  {
   "cell_type": "code",
   "execution_count": 13,
   "metadata": {},
   "outputs": [
    {
     "name": "stdout",
     "output_type": "stream",
     "text": [
      "8\n",
      "{1: 1, 2: 4, 3: 9, 4: 16, 5: 25, 6: 36, 7: 49, 8: 64}\n"
     ]
    }
   ],
   "source": [
    "abc={}\n",
    "n=int(input())\n",
    "for i in range(1,n+1):\n",
    "    abc[i]=i*i\n",
    "print(abc)\n"
   ]
  },
  {
   "cell_type": "markdown",
   "metadata": {},
   "source": [
    "## QUESTION-4"
   ]
  },
  {
   "cell_type": "markdown",
   "metadata": {},
   "source": [
    "Write a program to compute the distance between the current position after\n",
    "a sequence of movement and original point. If the distance is a float, then\n",
    "just print the nearest integer (use round() function for that and then convert\n",
    "it into an integer).<br>\n",
    "Input Format:<br>\n",
    "The first line of the input contains a number n which implies the number of\n",
    "directions to be given.\n",
    "The next n lines contain the direction and the step separated by a space.<br>\n",
    "Output Format:<br>\n",
    "Print the distance from the original position to the current position.\n",
    "Example:<br>\n",
    "Input:<br>\n",
    "4<br>\n",
    "UP 5<br>\n",
    "DOWN 3<br>\n",
    "LEFT 3<br>\n",
    "RIGHT 2<br>\n",
    "Output:<br>\n",
    "2<br>\n",
    "\n"
   ]
  },
  {
   "cell_type": "markdown",
   "metadata": {},
   "source": [
    "### Answer"
   ]
  },
  {
   "cell_type": "code",
   "execution_count": 18,
   "metadata": {},
   "outputs": [
    {
     "name": "stdout",
     "output_type": "stream",
     "text": [
      "4\n",
      "UP 5\n",
      "DOWN 3\n",
      "LEFT 3\n",
      "RIGHT 2\n",
      "2\n"
     ]
    }
   ],
   "source": [
    "a,b=0,0\n",
    "c=int(input())\n",
    "for i in range(c):\n",
    "    arr=input().split()\n",
    "    if arr[0].upper()==\"UP\":\n",
    "        a= a +int(arr[1])\n",
    "    elif arr[0].upper()==\"DOWN\":\n",
    "        a=a - int(arr[1])\n",
    "    elif arr[0].upper()==\"LEFT\":\n",
    "        b=b+ int(arr[1])\n",
    "    elif arr[0].upper()==\"RIGHT\":\n",
    "        b=b- int(arr[1])\n",
    "        \n",
    "d=(a*a +b*b)**(1/2)\n",
    "print(round(d))\n",
    "\n",
    "        "
   ]
  },
  {
   "cell_type": "code",
   "execution_count": null,
   "metadata": {},
   "outputs": [],
   "source": []
  }
 ],
 "metadata": {
  "kernelspec": {
   "display_name": "Python 3",
   "language": "python",
   "name": "python3"
  },
  "language_info": {
   "codemirror_mode": {
    "name": "ipython",
    "version": 3
   },
   "file_extension": ".py",
   "mimetype": "text/x-python",
   "name": "python",
   "nbconvert_exporter": "python",
   "pygments_lexer": "ipython3",
   "version": "3.8.5"
  }
 },
 "nbformat": 4,
 "nbformat_minor": 4
}
