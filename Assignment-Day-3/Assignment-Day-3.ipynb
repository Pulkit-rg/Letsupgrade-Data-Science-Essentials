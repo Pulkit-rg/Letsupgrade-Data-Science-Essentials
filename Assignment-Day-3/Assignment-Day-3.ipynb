{
 "cells": [
  {
   "cell_type": "markdown",
   "metadata": {},
   "source": [
    "### QUESTION-1"
   ]
  },
  {
   "cell_type": "markdown",
   "metadata": {},
   "source": [
    " Create a numpy array starting from 2 till 50 with a stepsize of 3."
   ]
  },
  {
   "cell_type": "markdown",
   "metadata": {},
   "source": [
    "### Program\n"
   ]
  },
  {
   "cell_type": "code",
   "execution_count": 1,
   "metadata": {},
   "outputs": [],
   "source": [
    "import numpy as np"
   ]
  },
  {
   "cell_type": "code",
   "execution_count": 6,
   "metadata": {},
   "outputs": [
    {
     "name": "stdout",
     "output_type": "stream",
     "text": [
      "[ 2  5  8 11 14 17 20 23 26 29 32 35 38 41 44 47 50]\n"
     ]
    }
   ],
   "source": [
    "arr= np.arange(start = 2,stop=51,step=3)\n",
    "print(arr)"
   ]
  },
  {
   "cell_type": "markdown",
   "metadata": {},
   "source": [
    "# QUESTION-2"
   ]
  },
  {
   "cell_type": "markdown",
   "metadata": {},
   "source": [
    " Accept two lists of 5 elements each from the user.\n",
    " Convert them to numpy arrays. Concatenate these arrays and print it. Also sort these arrays and print it."
   ]
  },
  {
   "cell_type": "code",
   "execution_count": 18,
   "metadata": {},
   "outputs": [
    {
     "name": "stdout",
     "output_type": "stream",
     "text": [
      "54 86 24 38\n",
      "91 50 34 72\n",
      "\n",
      "Lists Converts into numpy arrays\n",
      "[54 86 24 38]\n",
      "[91 50 34 72]\n",
      "\n",
      "Concatenating the arrays\n",
      "[54 86 24 38 91 50 34 72]\n",
      "\n",
      "Sorting the arrays\n",
      "[24 38 54 86]\n",
      "[34 50 72 91]\n"
     ]
    }
   ],
   "source": [
    "arr=list(map(int, input().split()))\n",
    "brr=list(map(int, input().split()))\n",
    "\n",
    "# converting into numpy array\n",
    "arr=np.array(arr)\n",
    "brr=np.array(brr)\n",
    "print( \"\")\n",
    "print( \"Lists Converts into numpy arrays\")\n",
    "print(arr)\n",
    "print(brr)\n",
    "print( \"\")\n",
    "\n",
    "# concatenating these arrays\n",
    "print(\"Concatenating the arrays\")\n",
    "z=np.concatenate((arr, brr))\n",
    "print(z)\n",
    "print( \"\")\n",
    "\n",
    "#Sorting the arrays\n",
    "print( \"Sorting the arrays\")\n",
    "print(np.sort(arr))\n",
    "print(np.sort(brr))"
   ]
  },
  {
   "cell_type": "markdown",
   "metadata": {},
   "source": [
    "### QUESTION-3"
   ]
  },
  {
   "cell_type": "markdown",
   "metadata": {},
   "source": [
    "Write a code snippet to find the dimensions of a ndarray and its size."
   ]
  },
  {
   "cell_type": "markdown",
   "metadata": {},
   "source": [
    " #### Code"
   ]
  },
  {
   "cell_type": "code",
   "execution_count": 5,
   "metadata": {},
   "outputs": [
    {
     "name": "stdout",
     "output_type": "stream",
     "text": [
      "(3, 3) 9\n"
     ]
    }
   ],
   "source": [
    "import numpy as np\n",
    "\n",
    "arr = np.array([ [1,2,3] , [4,5,6] , [7,8,9] ])\n",
    "print(arr.shape,arr.size)"
   ]
  },
  {
   "cell_type": "markdown",
   "metadata": {},
   "source": [
    " ### QUESTION-4"
   ]
  },
  {
   "cell_type": "markdown",
   "metadata": {},
   "source": [
    "How to convert a 1D array into a 2D array? Demonstrate with the help of a code snippet\n",
    "Hint: np.newaxis, np.expand_dims"
   ]
  },
  {
   "cell_type": "markdown",
   "metadata": {},
   "source": [
    "### Code"
   ]
  },
  {
   "cell_type": "code",
   "execution_count": 7,
   "metadata": {},
   "outputs": [
    {
     "name": "stdout",
     "output_type": "stream",
     "text": [
      "[[1 2 3 4 5 6 7 8 9]] (1, 9)\n",
      "\n",
      "[[1 2 3]\n",
      " [4 5 6]\n",
      " [7 8 9]] (3, 3)\n"
     ]
    }
   ],
   "source": [
    "'''\n",
    "    To convert a 1D array into a 2D array, we can use reshape(a, newshape, order='C').\n",
    "    \n",
    "    e.g arr = np.array([ [1,2,3,4,5,6,7,8,9] ]) \n",
    "        \n",
    "        arr.shape O/P: (1, 9)\n",
    "        \n",
    "        arr.reshape(3,3)\n",
    "        \n",
    "        O/P: array([[1, 2, 3],\n",
    "                    [4, 5, 6],\n",
    "                    [7, 8, 9]])\n",
    "    \n",
    "'''\n",
    "arr = np.array([ [1,2,3,4,5,6,7,8,9] ])\n",
    "\n",
    "print(arr,arr.shape) \n",
    "\n",
    "print()\n",
    "\n",
    "arr = arr.reshape(3,3) \n",
    "\n",
    "print(arr,arr.shape)"
   ]
  },
  {
   "cell_type": "markdown",
   "metadata": {},
   "source": [
    "### QUESTION-5"
   ]
  },
  {
   "cell_type": "markdown",
   "metadata": {},
   "source": [
    "Consider two square numpy arrays. Stack them vertically and horizontally.\n",
    "Hint: Use vstack(), hstack()"
   ]
  },
  {
   "cell_type": "markdown",
   "metadata": {},
   "source": [
    " #### Code"
   ]
  },
  {
   "cell_type": "code",
   "execution_count": 8,
   "metadata": {},
   "outputs": [
    {
     "name": "stdout",
     "output_type": "stream",
     "text": [
      "[[1 1 1]\n",
      " [2 2 2]\n",
      " [3 3 3]\n",
      " [4 4 4]\n",
      " [5 5 5]\n",
      " [6 6 6]]\n",
      "\n",
      "[[1 1 1 4 4 4]\n",
      " [2 2 2 5 5 5]\n",
      " [3 3 3 6 6 6]]\n"
     ]
    }
   ],
   "source": [
    "\n",
    "arr1 = np.array([ [1,1,1] , [2,2,2] , [3,3,3] ])\n",
    "arr2 = np.array([ [4,4,4] , [5,5,5] , [6,6,6] ])\n",
    "print(np.vstack((arr1,arr2))) # Stack the arrays in a row-wise sequence\n",
    "print() \n",
    "print(np.hstack((arr1,arr2))) # Stack the arrays in a column-wise sequence\n"
   ]
  },
  {
   "cell_type": "markdown",
   "metadata": {},
   "source": [
    "#### QUESTION-6"
   ]
  },
  {
   "cell_type": "markdown",
   "metadata": {},
   "source": [
    "How to get unique items and counts of unique items?"
   ]
  },
  {
   "cell_type": "markdown",
   "metadata": {},
   "source": [
    "#### Code"
   ]
  },
  {
   "cell_type": "code",
   "execution_count": 9,
   "metadata": {},
   "outputs": [
    {
     "name": "stdout",
     "output_type": "stream",
     "text": [
      "[1, 2, 3, 4, 5]\n",
      "\n",
      "5\n"
     ]
    }
   ],
   "source": [
    "list1 = [1,3,1,5,2,4]\n",
    "list1 = list(set(list1))\n",
    "print(list1)\n",
    "print()\n",
    "print(len(list1))"
   ]
  },
  {
   "cell_type": "code",
   "execution_count": null,
   "metadata": {},
   "outputs": [],
   "source": []
  }
 ],
 "metadata": {
  "kernelspec": {
   "display_name": "Python 3",
   "language": "python",
   "name": "python3"
  },
  "language_info": {
   "codemirror_mode": {
    "name": "ipython",
    "version": 3
   },
   "file_extension": ".py",
   "mimetype": "text/x-python",
   "name": "python",
   "nbconvert_exporter": "python",
   "pygments_lexer": "ipython3",
   "version": "3.8.5"
  }
 },
 "nbformat": 4,
 "nbformat_minor": 4
}
